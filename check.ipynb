{
 "cells": [
  {
   "cell_type": "code",
   "execution_count": 29,
   "metadata": {},
   "outputs": [],
   "source": [
    "import torch\n",
    "import torch.nn as nn\n",
    "import numpy as np"
   ]
  },
  {
   "cell_type": "code",
   "execution_count": 30,
   "metadata": {},
   "outputs": [],
   "source": [
    "def save_bin(path, inn):\n",
    "    f = open(path, 'wb')\n",
    "    for item in inn:\n",
    "        s = str(item) + '\\n'\n",
    "        bt = s.encode()\n",
    "        f.write(bt) \n",
    "    f.close()"
   ]
  },
  {
   "cell_type": "code",
   "execution_count": 31,
   "metadata": {},
   "outputs": [],
   "source": [
    "class Net(nn.Module):\n",
    "    def __init__(self):\n",
    "         super(Net, self).__init__()\n",
    "         self.fc1 = nn.Linear(32**2, 16**2) # входной слой\n",
    "         self.fc2 = nn.Linear(16**2, 4**2) # скрытый слой\n",
    "         self.fc3 = nn.Linear(4**2,1) # скрытый слой\n",
    "\n",
    "    def forward(self, x):\n",
    "        sigmoid = nn.Sigmoid()\n",
    "        x = self.fc1(x)\n",
    "        x = sigmoid(x)\n",
    "        x = self.fc2(x)\n",
    "        x = sigmoid(x)\n",
    "        x = sigmoid(self.fc3(x))\n",
    "        return x"
   ]
  },
  {
   "cell_type": "code",
   "execution_count": 32,
   "metadata": {},
   "outputs": [
    {
     "name": "stdout",
     "output_type": "stream",
     "text": [
      "tensor([0.5696], grad_fn=<SigmoidBackward0>)\n"
     ]
    }
   ],
   "source": [
    "input_layer = torch.rand(32**2) # входные данные нейронной сети\n",
    "net = Net() # создание объекта \"нейронная сеть\"\n",
    "save_bin('C:/Users/USER/Documents/nsu/2/parallel/inputs1.bin', input_layer.detach().numpy())\n",
    "result = net(input_layer)# запуск прямого распространения информации\n",
    "print(result)"
   ]
  },
  {
   "cell_type": "code",
   "execution_count": 33,
   "metadata": {},
   "outputs": [],
   "source": [
    "save, counter = 1, 1\n",
    "for j in net.parameters():\n",
    "    if counter%2 == 1:\n",
    "        save_bin(f'C:/Users/USER/Documents/nsu/2/parallel/weights{save}.bin', j.detach().numpy().flatten())\n",
    "    else:\n",
    "        save_bin(f'C:/Users/USER/Documents/nsu/2/parallel/biases{save}.bin', j.detach().numpy().flatten())\n",
    "        save+=1\n",
    "    counter+=1"
   ]
  }
 ],
 "metadata": {
  "kernelspec": {
   "display_name": "Python 3",
   "language": "python",
   "name": "python3"
  },
  "language_info": {
   "codemirror_mode": {
    "name": "ipython",
    "version": 3
   },
   "file_extension": ".py",
   "mimetype": "text/x-python",
   "name": "python",
   "nbconvert_exporter": "python",
   "pygments_lexer": "ipython3",
   "version": "3.11.2"
  },
  "orig_nbformat": 4
 },
 "nbformat": 4,
 "nbformat_minor": 2
}
